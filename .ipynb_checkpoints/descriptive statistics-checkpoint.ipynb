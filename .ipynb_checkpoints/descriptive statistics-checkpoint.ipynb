{
 "cells": [
  {
   "cell_type": "code",
   "execution_count": 3,
   "id": "ef1b4348-e962-4436-9954-9a453d407f4c",
   "metadata": {},
   "outputs": [
    {
     "name": "stdout",
     "output_type": "stream",
     "text": [
      "Max of Hour_Of_Day : 22\n",
      "Min of Hour_Of_Day : 6\n",
      "Range of Hour_Of_Day : 16\n",
      "Mean of Hour_Of_Day : 14.19\n",
      "Mode of Hour_Of_Day : 10\n",
      "Variance of Hour_Of_Day : 17.93\n",
      "Standard Deviance of Hour_Of_Day : 4.23\n",
      "\n",
      "Max of Money : 38.7\n",
      "Min of Money : 18.12\n",
      "Range of Money : 20.580000000000002\n",
      "Mean of Money : 31.65\n",
      "Mode of Money : 35.76\n",
      "Variance of Money : 23.79\n",
      "Standard Deviance of Money : 4.88\n",
      "\n",
      "Max of Weekdaysort : 7\n",
      "Min of Weekdaysort : 1\n",
      "Range of Weekdaysort : 6\n",
      "Mean of Weekdaysort : 3.85\n",
      "Mode of Weekdaysort : 2\n",
      "Variance of Weekdaysort : 3.89\n",
      "Standard Deviance of Weekdaysort : 1.97\n",
      "\n",
      "Max of Monthsort : 12\n",
      "Min of Monthsort : 1\n",
      "Range of Monthsort : 11\n",
      "Mean of Monthsort : 6.45\n",
      "Mode of Monthsort : 3\n",
      "Variance of Monthsort : 12.26\n",
      "Standard Deviance of Monthsort : 3.5\n",
      "\n"
     ]
    }
   ],
   "source": [
    "import pandas as pd\n",
    "import statistics\n",
    "import numpy as np\n",
    "\n",
    "# Declaration\n",
    "data = pd.read_csv(\"Coffe_sales.csv\")\n",
    "\n",
    "target_col = [\"hour_of_day\",\"money\",\"Weekdaysort\",\"Monthsort\"]\n",
    "\n",
    "for dt in target_col:\n",
    "    # Convert to int\n",
    "    data[dt] = pd.to_numeric(data[dt], errors='coerce')\n",
    "    \n",
    "    # Remove NaN\n",
    "    data = data.dropna(subset=[dt])\n",
    "\n",
    "    max_val = data[dt].max()\n",
    "    min_val = data[dt].min()\n",
    "    range_val = max_val - min_val\n",
    "    mean = round(data[dt].mean(),2)\n",
    "    mode = round(statistics.mode(data[dt]),2)\n",
    "    var = round(np.nanvar(data[dt],ddof=1),2)\n",
    "    std = round(var ** 0.5,2)\n",
    "\n",
    "    print(f\"Max of {dt.title()} : {max_val}\")\n",
    "    print(f\"Min of {dt.title()} : {min_val}\")\n",
    "    print(f\"Range of {dt.title()} : {range_val}\")\n",
    "    print(f\"Mean of {dt.title()} : {mean}\")\n",
    "    print(f\"Mode of {dt.title()} : {mode}\")\n",
    "    print(f\"Variance of {dt.title()} : {var}\")\n",
    "    print(f\"Standard Deviance of {dt.title()} : {std}\\n\")"
   ]
  },
  {
   "cell_type": "code",
   "execution_count": 9,
   "id": "b6690fb1-4e1d-470b-b7ab-7cfbb5d55f9e",
   "metadata": {},
   "outputs": [
    {
     "name": "stdout",
     "output_type": "stream",
     "text": [
      "           Coffee Name  Total Sales  Average Price\n",
      "3  Americano with Milk          809          30.59\n",
      "0                Latte          757          35.50\n",
      "2            Americano          564          25.98\n",
      "7           Cappuccino          486          35.88\n",
      "5              Cortado          287          25.73\n",
      "1        Hot Chocolate          276          35.99\n",
      "4                Cocoa          239          35.65\n",
      "6             Espresso          129          20.85\n"
     ]
    }
   ],
   "source": [
    "import pandas as pd\n",
    "import statistics\n",
    "import numpy as np\n",
    "\n",
    "# Declaration\n",
    "# Descriptive Statistic for Average Price Per Coffee\n",
    "data = pd.read_csv(\"Coffe_sales.csv\")\n",
    "\n",
    "# Unique values for Coffee Name\n",
    "types_groups = data['coffee_name'].unique().tolist()\n",
    "\n",
    "results = []\n",
    "\n",
    "for types in types_groups:\n",
    "    # Filter data by coffee type\n",
    "    types_data = data[data['coffee_name'] == types]\n",
    "\n",
    "    # Total sales count\n",
    "    total_sales = types_data['money'].count()\n",
    "\n",
    "    # Average price\n",
    "    avg_price = round(types_data['money'].mean(), 2)\n",
    "\n",
    "    # Result row\n",
    "    result_row = {\n",
    "        'Coffee Name': types,\n",
    "        'Total Sales': total_sales,\n",
    "        'Average Price': avg_price\n",
    "    }\n",
    "\n",
    "    results.append(result_row)\n",
    "\n",
    "# Sort\n",
    "res_df = pd.DataFrame(results)\n",
    "res_df = res_df.sort_values(by='Total Sales', ascending=False)\n",
    "print(res_df)"
   ]
  },
  {
   "cell_type": "code",
   "execution_count": null,
   "id": "712236e5-cd28-4ff7-90a4-914b2d8a0487",
   "metadata": {},
   "outputs": [],
   "source": []
  }
 ],
 "metadata": {
  "kernelspec": {
   "display_name": "Python [conda env:base] *",
   "language": "python",
   "name": "conda-base-py"
  },
  "language_info": {
   "codemirror_mode": {
    "name": "ipython",
    "version": 3
   },
   "file_extension": ".py",
   "mimetype": "text/x-python",
   "name": "python",
   "nbconvert_exporter": "python",
   "pygments_lexer": "ipython3",
   "version": "3.12.7"
  }
 },
 "nbformat": 4,
 "nbformat_minor": 5
}
